{
 "cells": [
  {
   "metadata": {
    "ExecuteTime": {
     "end_time": "2024-05-22T12:51:01.444192Z",
     "start_time": "2024-05-22T12:50:59.278220Z"
    }
   },
   "cell_type": "code",
   "source": [
    "import numpy as np\n",
    "import pandas as pd\n",
    "import streamlit as st\n",
    "from dateutil.relativedelta import relativedelta\n",
    "\n",
    "import plotly.express as px\n",
    "import plotly.graph_objects as go\n",
    "import plotly.figure_factory as ff\n",
    "from plotly.subplots import make_subplots\n",
    "\n",
    "import json\n",
    "import requests\n",
    "\n",
    "config_path = 'config.json'\n",
    "with open(config_path) as f: #Loading configuration file to a dict\n",
    "    config = json.load(f)\n",
    "\n",
    "with open(config['data_geo']) as f: # loading geo info from data/geo_init.json\n",
    "    data_geo = json.load(f)\n",
    "\n",
    "content_dict = {}\n",
    "for page in config['data_content'].keys(): # loading page text for each page and saving to a dict\n",
    "    with open(config['data_content'][page], 'r') as f:\n",
    "        content_dict[page] = f.read()\n",
    "\n",
    "\n",
    "#Lets load actual data\n",
    "period_last = config['period_last']\n",
    "df_geo = pd.DataFrame.from_dict(data_geo)\n"
   ],
   "id": "4729dde683ca40cf",
   "outputs": [],
   "execution_count": 1
  },
  {
   "metadata": {
    "ExecuteTime": {
     "end_time": "2024-05-22T12:51:07.423075Z",
     "start_time": "2024-05-22T12:51:07.368775Z"
    }
   },
   "cell_type": "code",
   "source": "df_geo",
   "id": "803398bddb86e3ae",
   "outputs": [
    {
     "data": {
      "text/plain": [
       "                                      0                         1  \\\n",
       "direction                       Popasna                  Mykolaiv   \n",
       "oblast                          Luhansk                  Mykolaiv   \n",
       "coordinate_ua  [38.3777033, 48.6322687]  [31.9939666, 46.9758615]   \n",
       "\n",
       "                                      2                         3  \\\n",
       "direction                       Kharkiv                     Lyman   \n",
       "oblast                          Kharkiv                   Donetsk   \n",
       "coordinate_ua  [36.2310146, 49.9923181]  [37.8168012, 48.9801314]   \n",
       "\n",
       "                                      4                         5  \\\n",
       "direction                 Novopavlivske           Sievierodonetsk   \n",
       "oblast                         Mykolaiv                   Luhansk   \n",
       "coordinate_ua  [32.9033029, 47.1353188]  [38.4936475, 48.9478698]   \n",
       "\n",
       "                                      6                         7  \\\n",
       "direction                         Izyum              Zaporizhzhia   \n",
       "oblast                          Kharkiv              Zaporizhzhia   \n",
       "coordinate_ua  [37.2784125, 49.1913721]  [35.1182867, 47.8507859]   \n",
       "\n",
       "                                      8                         9  \\\n",
       "direction                     Kurakhove                  Avdiivka   \n",
       "oblast                          Donetsk                   Donetsk   \n",
       "coordinate_ua  [37.2826414, 47.9835214]  [37.7466719, 48.1338824]   \n",
       "\n",
       "                                     10                        11  \\\n",
       "direction                    Kramatorsk                   Donetsk   \n",
       "oblast                          Donetsk                   Donetsk   \n",
       "coordinate_ua  [37.5843812, 48.7389415]  [37.8013407, 48.0158753]   \n",
       "\n",
       "                                     12                        13  \\\n",
       "direction                     Sloviansk                Kryvyi Rih   \n",
       "oblast                          Donetsk            Dnipropetrovsk   \n",
       "coordinate_ua  [37.6058241, 48.8522691]  [33.3917703, 47.9102734]   \n",
       "\n",
       "                                     14                        15  \n",
       "direction                       Bakhmut                  Kupiansk  \n",
       "oblast                          Donetsk                   Kharkiv  \n",
       "coordinate_ua  [38.0020994, 48.5894123]  [49.7132963, 37.6141992]  "
      ],
      "text/html": [
       "<div>\n",
       "<style scoped>\n",
       "    .dataframe tbody tr th:only-of-type {\n",
       "        vertical-align: middle;\n",
       "    }\n",
       "\n",
       "    .dataframe tbody tr th {\n",
       "        vertical-align: top;\n",
       "    }\n",
       "\n",
       "    .dataframe thead th {\n",
       "        text-align: right;\n",
       "    }\n",
       "</style>\n",
       "<table border=\"1\" class=\"dataframe\">\n",
       "  <thead>\n",
       "    <tr style=\"text-align: right;\">\n",
       "      <th></th>\n",
       "      <th>0</th>\n",
       "      <th>1</th>\n",
       "      <th>2</th>\n",
       "      <th>3</th>\n",
       "      <th>4</th>\n",
       "      <th>5</th>\n",
       "      <th>6</th>\n",
       "      <th>7</th>\n",
       "      <th>8</th>\n",
       "      <th>9</th>\n",
       "      <th>10</th>\n",
       "      <th>11</th>\n",
       "      <th>12</th>\n",
       "      <th>13</th>\n",
       "      <th>14</th>\n",
       "      <th>15</th>\n",
       "    </tr>\n",
       "  </thead>\n",
       "  <tbody>\n",
       "    <tr>\n",
       "      <th>direction</th>\n",
       "      <td>Popasna</td>\n",
       "      <td>Mykolaiv</td>\n",
       "      <td>Kharkiv</td>\n",
       "      <td>Lyman</td>\n",
       "      <td>Novopavlivske</td>\n",
       "      <td>Sievierodonetsk</td>\n",
       "      <td>Izyum</td>\n",
       "      <td>Zaporizhzhia</td>\n",
       "      <td>Kurakhove</td>\n",
       "      <td>Avdiivka</td>\n",
       "      <td>Kramatorsk</td>\n",
       "      <td>Donetsk</td>\n",
       "      <td>Sloviansk</td>\n",
       "      <td>Kryvyi Rih</td>\n",
       "      <td>Bakhmut</td>\n",
       "      <td>Kupiansk</td>\n",
       "    </tr>\n",
       "    <tr>\n",
       "      <th>oblast</th>\n",
       "      <td>Luhansk</td>\n",
       "      <td>Mykolaiv</td>\n",
       "      <td>Kharkiv</td>\n",
       "      <td>Donetsk</td>\n",
       "      <td>Mykolaiv</td>\n",
       "      <td>Luhansk</td>\n",
       "      <td>Kharkiv</td>\n",
       "      <td>Zaporizhzhia</td>\n",
       "      <td>Donetsk</td>\n",
       "      <td>Donetsk</td>\n",
       "      <td>Donetsk</td>\n",
       "      <td>Donetsk</td>\n",
       "      <td>Donetsk</td>\n",
       "      <td>Dnipropetrovsk</td>\n",
       "      <td>Donetsk</td>\n",
       "      <td>Kharkiv</td>\n",
       "    </tr>\n",
       "    <tr>\n",
       "      <th>coordinate_ua</th>\n",
       "      <td>[38.3777033, 48.6322687]</td>\n",
       "      <td>[31.9939666, 46.9758615]</td>\n",
       "      <td>[36.2310146, 49.9923181]</td>\n",
       "      <td>[37.8168012, 48.9801314]</td>\n",
       "      <td>[32.9033029, 47.1353188]</td>\n",
       "      <td>[38.4936475, 48.9478698]</td>\n",
       "      <td>[37.2784125, 49.1913721]</td>\n",
       "      <td>[35.1182867, 47.8507859]</td>\n",
       "      <td>[37.2826414, 47.9835214]</td>\n",
       "      <td>[37.7466719, 48.1338824]</td>\n",
       "      <td>[37.5843812, 48.7389415]</td>\n",
       "      <td>[37.8013407, 48.0158753]</td>\n",
       "      <td>[37.6058241, 48.8522691]</td>\n",
       "      <td>[33.3917703, 47.9102734]</td>\n",
       "      <td>[38.0020994, 48.5894123]</td>\n",
       "      <td>[49.7132963, 37.6141992]</td>\n",
       "    </tr>\n",
       "  </tbody>\n",
       "</table>\n",
       "</div>"
      ]
     },
     "execution_count": 2,
     "metadata": {},
     "output_type": "execute_result"
    }
   ],
   "execution_count": 2
  },
  {
   "metadata": {
    "ExecuteTime": {
     "end_time": "2024-05-22T12:53:50.255350Z",
     "start_time": "2024-05-22T12:53:50.249543Z"
    }
   },
   "cell_type": "code",
   "source": "config['url']",
   "id": "987e68bb889e59bb",
   "outputs": [
    {
     "data": {
      "text/plain": [
       "{'personnel': 'https://raw.githubusercontent.com/PetroIvaniuk/2022-Ukraine-Russia-War-Dataset/main/data/russia_losses_personnel.json',\n",
       " 'equipment': 'https://raw.githubusercontent.com/PetroIvaniuk/2022-Ukraine-Russia-War-Dataset/main/data/russia_losses_equipment.json',\n",
       " 'oryx': 'https://raw.githubusercontent.com/PetroIvaniuk/2022-Ukraine-Russia-War-Dataset/main/data/russia_losses_equipment_oryx.json'}"
      ]
     },
     "execution_count": 10,
     "metadata": {},
     "output_type": "execute_result"
    }
   ],
   "execution_count": 10
  },
  {
   "metadata": {
    "ExecuteTime": {
     "end_time": "2024-05-22T12:54:45.060859Z",
     "start_time": "2024-05-22T12:54:43.436477Z"
    }
   },
   "cell_type": "code",
   "source": [
    "df_oryx = pd.DataFrame(requests.get(config['url']['oryx']).json())\n",
    "df_personnel = pd.DataFrame(requests.get(config['url']['personnel']).json())\n",
    "df_equipment = pd.DataFrame(requests.get(config['url']['equipment']).json())"
   ],
   "id": "5271ff6587976c6a",
   "outputs": [],
   "execution_count": 11
  },
  {
   "metadata": {
    "ExecuteTime": {
     "end_time": "2024-05-22T12:57:43.371648Z",
     "start_time": "2024-05-22T12:57:43.356367Z"
    }
   },
   "cell_type": "code",
   "source": "df_personnel.info()",
   "id": "c8457cfe94450696",
   "outputs": [
    {
     "name": "stdout",
     "output_type": "stream",
     "text": [
      "<class 'pandas.core.frame.DataFrame'>\n",
      "RangeIndex: 817 entries, 0 to 816\n",
      "Data columns (total 5 columns):\n",
      " #   Column      Non-Null Count  Dtype  \n",
      "---  ------      --------------  -----  \n",
      " 0   date        817 non-null    object \n",
      " 1   day         817 non-null    int64  \n",
      " 2   personnel   817 non-null    int64  \n",
      " 3   personnel*  817 non-null    object \n",
      " 4   POW         62 non-null     float64\n",
      "dtypes: float64(1), int64(2), object(2)\n",
      "memory usage: 32.0+ KB\n"
     ]
    }
   ],
   "execution_count": 14
  },
  {
   "metadata": {},
   "cell_type": "code",
   "outputs": [],
   "execution_count": null,
   "source": "",
   "id": "32c912dcb1eb391e"
  }
 ],
 "metadata": {
  "kernelspec": {
   "display_name": "Python 3",
   "language": "python",
   "name": "python3"
  },
  "language_info": {
   "codemirror_mode": {
    "name": "ipython",
    "version": 2
   },
   "file_extension": ".py",
   "mimetype": "text/x-python",
   "name": "python",
   "nbconvert_exporter": "python",
   "pygments_lexer": "ipython2",
   "version": "2.7.6"
  }
 },
 "nbformat": 4,
 "nbformat_minor": 5
}
